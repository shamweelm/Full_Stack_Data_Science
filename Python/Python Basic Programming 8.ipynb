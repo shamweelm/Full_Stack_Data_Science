{
 "cells": [
  {
   "cell_type": "markdown",
   "metadata": {},
   "source": [
    "#  Write a Python Program to Add Two Matrices?"
   ]
  },
  {
   "cell_type": "code",
   "execution_count": 11,
   "metadata": {},
   "outputs": [],
   "source": [
    "import numpy as np"
   ]
  },
  {
   "cell_type": "code",
   "execution_count": 47,
   "metadata": {},
   "outputs": [],
   "source": [
    "def add_matrix(a, b):\n",
    "    if a.shape != b.shape:\n",
    "        return \"Matrix shapes do not match\"\n",
    "    if a.shape == b.shape:\n",
    "        rows, cols = a.shape\n",
    "        c = np.zeros([rows, cols])\n",
    "        for i in range(rows):\n",
    "            for j in range(cols):\n",
    "                c[i][j] = a[i][j] + b[i][j]\n",
    "        return c"
   ]
  },
  {
   "cell_type": "code",
   "execution_count": 50,
   "metadata": {},
   "outputs": [],
   "source": [
    "X = np.array([[8,6,2],\n",
    "    [4,2,6],\n",
    "    [6,7,8]])\n",
    "\n",
    "Y = np.array([[5,8,1],\n",
    "    [1,2,3],\n",
    "    [8,6,3]])"
   ]
  },
  {
   "cell_type": "code",
   "execution_count": 51,
   "metadata": {},
   "outputs": [
    {
     "data": {
      "text/plain": [
       "array([[13., 14.,  3.],\n",
       "       [ 5.,  4.,  9.],\n",
       "       [14., 13., 11.]])"
      ]
     },
     "execution_count": 51,
     "metadata": {},
     "output_type": "execute_result"
    }
   ],
   "source": [
    "add_matrix(X,Y)"
   ]
  },
  {
   "cell_type": "markdown",
   "metadata": {},
   "source": [
    "#  Write a Python Program to Multiply Two Matrices?"
   ]
  },
  {
   "cell_type": "code",
   "execution_count": 58,
   "metadata": {},
   "outputs": [],
   "source": [
    "def multiply_matrix(A, B):\n",
    "    A_rows, A_cols = A.shape\n",
    "    B_rows, B_cols = B.shape\n",
    "    if A_cols != B_rows:\n",
    "        return \"Matrix shapes do not match\"\n",
    "    else:\n",
    "        c = np.zeros([A_rows, B_cols])\n",
    "        for i in range(A_rows):\n",
    "           for j in range(B_cols):\n",
    "               for k in range(B_rows):\n",
    "                   c[i][j] += A[i][k] * B[k][j]\n",
    "        return c"
   ]
  },
  {
   "cell_type": "code",
   "execution_count": 59,
   "metadata": {},
   "outputs": [
    {
     "data": {
      "text/plain": [
       "array([[ 62.,  88.,  32.],\n",
       "       [ 70.,  72.,  28.],\n",
       "       [101., 110.,  51.]])"
      ]
     },
     "execution_count": 59,
     "metadata": {},
     "output_type": "execute_result"
    }
   ],
   "source": [
    "X = np.array([[8,6,2],\n",
    "    [4,2,6],\n",
    "    [6,7,8]])\n",
    "\n",
    "Y = np.array([[5,8,1],\n",
    "    [1,2,3],\n",
    "    [8,6,3]])\n",
    "\n",
    "multiply_matrix(X,Y)"
   ]
  },
  {
   "cell_type": "markdown",
   "metadata": {},
   "source": [
    "#  Write a Python Program to Transpose a Matrix?"
   ]
  },
  {
   "cell_type": "code",
   "execution_count": 65,
   "metadata": {},
   "outputs": [],
   "source": [
    "def transpose(X):\n",
    "    X_rows, X_cols = X.shape\n",
    "    for i in range(X_rows):\n",
    "       for j in range(X_cols):\n",
    "           result[j][i] = X[i][j]\n",
    "    return result"
   ]
  },
  {
   "cell_type": "code",
   "execution_count": 67,
   "metadata": {},
   "outputs": [
    {
     "data": {
      "text/plain": [
       "[[5, 1, 8], [8, 2, 6], [1, 3, 3]]"
      ]
     },
     "execution_count": 67,
     "metadata": {},
     "output_type": "execute_result"
    }
   ],
   "source": [
    "Y = np.array([[5,8,1],\n",
    "    [1,2,3],\n",
    "    [8,6,3]])\n",
    "\n",
    "transpose(Y)"
   ]
  },
  {
   "cell_type": "markdown",
   "metadata": {},
   "source": [
    "#  Write a Python Program to Sort Words in Alphabetic Order?"
   ]
  },
  {
   "cell_type": "code",
   "execution_count": 71,
   "metadata": {},
   "outputs": [],
   "source": [
    "def sort_words(words):\n",
    "    word = words.split()\n",
    "    wl = [w.lower() for w in word]\n",
    "    wl.sort()\n",
    "    \n",
    "    for w in wl:\n",
    "        print(w)"
   ]
  },
  {
   "cell_type": "code",
   "execution_count": 72,
   "metadata": {},
   "outputs": [
    {
     "name": "stdout",
     "output_type": "stream",
     "text": [
      "is\n",
      "it.\n",
      "this\n"
     ]
    }
   ],
   "source": [
    "w = \"This is it.\"\n",
    "sort_words(w)"
   ]
  },
  {
   "cell_type": "markdown",
   "metadata": {},
   "source": [
    "#  Write a Python Program to Remove Punctuation From a String?"
   ]
  },
  {
   "cell_type": "code",
   "execution_count": 130,
   "metadata": {},
   "outputs": [],
   "source": [
    "def remove_pun(w):\n",
    "    print(w)\n",
    "    punctuations = '''!()-[]{};:'\"\\, <>./?@#$%^&*_~'''\n",
    "    \n",
    "    for ele in w: \n",
    "        if ele in punctuations: \n",
    "            w = w.replace(ele, \" \") \n",
    "    print(w)"
   ]
  },
  {
   "cell_type": "code",
   "execution_count": 131,
   "metadata": {},
   "outputs": [
    {
     "name": "stdout",
     "output_type": "stream",
     "text": [
      "This !@ sentence.. has a lot of <> punctuations.\n",
      "This    sentence   has a lot of    punctuations \n"
     ]
    }
   ],
   "source": [
    "my_str = \"This !@ sentence.. has a lot of <> punctuations.\"\n",
    "remove_pun(my_str)"
   ]
  },
  {
   "cell_type": "code",
   "execution_count": null,
   "metadata": {},
   "outputs": [],
   "source": []
  }
 ],
 "metadata": {
  "kernelspec": {
   "display_name": "Python 3",
   "language": "python",
   "name": "python3"
  },
  "language_info": {
   "codemirror_mode": {
    "name": "ipython",
    "version": 3
   },
   "file_extension": ".py",
   "mimetype": "text/x-python",
   "name": "python",
   "nbconvert_exporter": "python",
   "pygments_lexer": "ipython3",
   "version": "3.6.7"
  },
  "toc": {
   "base_numbering": 1,
   "nav_menu": {},
   "number_sections": true,
   "sideBar": true,
   "skip_h1_title": false,
   "title_cell": "Table of Contents",
   "title_sidebar": "Contents",
   "toc_cell": false,
   "toc_position": {},
   "toc_section_display": true,
   "toc_window_display": false
  }
 },
 "nbformat": 4,
 "nbformat_minor": 2
}
