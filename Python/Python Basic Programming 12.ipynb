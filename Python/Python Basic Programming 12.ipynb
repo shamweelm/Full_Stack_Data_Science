{
 "cells": [
  {
   "cell_type": "markdown",
   "metadata": {},
   "source": [
    "# Write a Python program to Extract Unique values dictionary values?"
   ]
  },
  {
   "cell_type": "code",
   "execution_count": 7,
   "metadata": {},
   "outputs": [],
   "source": [
    "def unique_values(l):\n",
    "    s = set()\n",
    "    for d in l:\n",
    "        for val in d.values():\n",
    "            if val not in s:\n",
    "                s.add(val)\n",
    "    return s"
   ]
  },
  {
   "cell_type": "code",
   "execution_count": 8,
   "metadata": {},
   "outputs": [
    {
     "data": {
      "text/plain": [
       "{1035,\n",
       " 1040,\n",
       " 'California',\n",
       " 'Dubai',\n",
       " False,\n",
       " 'India',\n",
       " 'Karnataka',\n",
       " True,\n",
       " 'UAE',\n",
       " 'USA'}"
      ]
     },
     "execution_count": 8,
     "metadata": {},
     "output_type": "execute_result"
    }
   ],
   "source": [
    "l = [{\"country\" : \"India\", \"state\" : \"Karnataka\", \"approved\": True}, \n",
    "     {\"country\" : \"UAE\", \"state\" : \"Dubai\", \"approved\" : False} , \n",
    "     {\"country\" : \"USA\", \"state\" : \"California\", \"approved\" : False},\n",
    "     {\"id\" : 1035, \"country\" : \"USA\", \"approved\" : False},\n",
    "     {\"id\" : 1040, \"approved\" : False}\n",
    "    ]\n",
    "unique_values(l)"
   ]
  },
  {
   "cell_type": "markdown",
   "metadata": {},
   "source": [
    "#  Write a Python program to find the sum of all items in a dictionary?"
   ]
  },
  {
   "cell_type": "code",
   "execution_count": 12,
   "metadata": {},
   "outputs": [],
   "source": [
    "def add_items(d):\n",
    "    s = 0\n",
    "    for val in d.values():\n",
    "        s = s + val\n",
    "    return s"
   ]
  },
  {
   "cell_type": "code",
   "execution_count": 14,
   "metadata": {},
   "outputs": [
    {
     "data": {
      "text/plain": [
       "57"
      ]
     },
     "execution_count": 14,
     "metadata": {},
     "output_type": "execute_result"
    }
   ],
   "source": [
    "d = {\"a\":8, \"b\":4, \"c\":8, \"d\":9, \"e\":10, \"f\":18}\n",
    "add_items(d)"
   ]
  },
  {
   "cell_type": "markdown",
   "metadata": {},
   "source": [
    "#  Write a Python program to Merging two Dictionaries?"
   ]
  },
  {
   "cell_type": "code",
   "execution_count": 48,
   "metadata": {},
   "outputs": [],
   "source": [
    "def merge_dict(d1, d2):\n",
    "    d1.update(d2)\n",
    "    return d1"
   ]
  },
  {
   "cell_type": "code",
   "execution_count": 50,
   "metadata": {},
   "outputs": [
    {
     "data": {
      "text/plain": [
       "{'a': 8, 'b': 4, 'c': 8, 'd': 9, 'e': 10, 'f': 18, 'x': 10, 'y': 25, 'z': 35}"
      ]
     },
     "execution_count": 50,
     "metadata": {},
     "output_type": "execute_result"
    }
   ],
   "source": [
    "d1 = {\"a\":8, \"b\":4, \"c\":8, \"d\":9, \"e\":10, \"f\":18}\n",
    "d2 = {\"x\":10, \"y\": 25, \"z\":35}\n",
    "merge_dict(d1, d2)"
   ]
  },
  {
   "cell_type": "markdown",
   "metadata": {},
   "source": [
    "# Write a Python program to convert key-values list to flat dictionary?"
   ]
  },
  {
   "cell_type": "code",
   "execution_count": 53,
   "metadata": {},
   "outputs": [],
   "source": [
    "def list_to_dict(k, v):\n",
    "    if len(k) != len(v):\n",
    "        return \"Total number of keys and values do not match.\"\n",
    "    else :\n",
    "        d_size = len(k)\n",
    "        d  = {}\n",
    "        for i in range(d_size):\n",
    "            d[k[i]] = v[i]\n",
    "        return d"
   ]
  },
  {
   "cell_type": "code",
   "execution_count": 54,
   "metadata": {},
   "outputs": [
    {
     "data": {
      "text/plain": [
       "{'a': 18, 'b': 25, 'c': 19, 'd': 36, 'e': 54}"
      ]
     },
     "execution_count": 54,
     "metadata": {},
     "output_type": "execute_result"
    }
   ],
   "source": [
    "k = [\"a\", \"b\", \"c\", \"d\", \"e\"]\n",
    "v = [18,25,19,36,54]\n",
    "list_to_dict(k, v)"
   ]
  },
  {
   "cell_type": "markdown",
   "metadata": {},
   "source": [
    "#  Write a Python program to insertion at the beginning in OrderedDict?"
   ]
  },
  {
   "cell_type": "code",
   "execution_count": 55,
   "metadata": {},
   "outputs": [],
   "source": [
    "from collections import OrderedDict"
   ]
  },
  {
   "cell_type": "code",
   "execution_count": 77,
   "metadata": {},
   "outputs": [],
   "source": [
    "def insert_ordered(o, k, v):\n",
    "    o.update({k:v})\n",
    "    o.move_to_end(k, last=False )\n",
    "    print(\"Updated Ordered Dictionary\")\n",
    "    print(o)"
   ]
  },
  {
   "cell_type": "code",
   "execution_count": 82,
   "metadata": {},
   "outputs": [
    {
     "name": "stdout",
     "output_type": "stream",
     "text": [
      "OrderedDict([('a', 41), ('b', 25), ('c', 85)])\n",
      "Updated Ordered Dictionary\n",
      "OrderedDict([('x', 25), ('a', 41), ('b', 25), ('c', 85)])\n"
     ]
    }
   ],
   "source": [
    "o = OrderedDict({\"a\":41, \"b\":25, \"c\":85})\n",
    "print(o)\n",
    "key = \"x\"\n",
    "value = 25\n",
    "insert_ordered(o, key, value)"
   ]
  },
  {
   "cell_type": "markdown",
   "metadata": {},
   "source": [
    "#  Write a Python program to check order of character in string using OrderedDict()?"
   ]
  },
  {
   "cell_type": "code",
   "execution_count": 141,
   "metadata": {},
   "outputs": [],
   "source": [
    "def check_order(string, pattern):\n",
    "    d = OrderedDict.fromkeys(string)\n",
    "    pLength = 0\n",
    "    for key,value in d.items():\n",
    "        if (key == pattern[pLength]):\n",
    "            pLength = pLength + 1\n",
    "\n",
    "        if (pLength == (len(pattern))):\n",
    "            return True\n",
    "    return False"
   ]
  },
  {
   "cell_type": "code",
   "execution_count": 142,
   "metadata": {},
   "outputs": [
    {
     "data": {
      "text/plain": [
       "True"
      ]
     },
     "execution_count": 142,
     "metadata": {},
     "output_type": "execute_result"
    }
   ],
   "source": [
    "string = 'Jupyter Notebook'\n",
    "pattern = 'py'\n",
    "check_order(string, pattern)"
   ]
  },
  {
   "cell_type": "code",
   "execution_count": 143,
   "metadata": {},
   "outputs": [
    {
     "data": {
      "text/plain": [
       "False"
      ]
     },
     "execution_count": 143,
     "metadata": {},
     "output_type": "execute_result"
    }
   ],
   "source": [
    "string = 'Jupyter Notebook'\n",
    "pattern = 'oer'\n",
    "check_order(string, pattern)"
   ]
  },
  {
   "cell_type": "markdown",
   "metadata": {},
   "source": [
    "#  Write a Python program to sort Python Dictionaries by Key or Value?"
   ]
  },
  {
   "cell_type": "code",
   "execution_count": 136,
   "metadata": {},
   "outputs": [],
   "source": [
    "def sort_dict(d, sortby = \"k\"):\n",
    "    sd = {}\n",
    "    if sortby == \"k\":\n",
    "        for k,v in sorted(d.items()):\n",
    "            sd[k] = v\n",
    "        return sd\n",
    "    if sortby == \"v\":\n",
    "        for k,v in sorted(d.items(), key = lambda x:x[1] ):\n",
    "            sd[k] = v\n",
    "        return sd\n",
    "    elif sortby != \"k\" or sortby != \"v\":\n",
    "        return \"Enter 'k' to sort by key or 'v' to sort by value.\""
   ]
  },
  {
   "cell_type": "code",
   "execution_count": 137,
   "metadata": {},
   "outputs": [
    {
     "data": {
      "text/plain": [
       "{'E': 100, 'a': 41, 'd': 96, 'r': 25, 'x': 85}"
      ]
     },
     "execution_count": 137,
     "metadata": {},
     "output_type": "execute_result"
    }
   ],
   "source": [
    "d = {\"a\":41, \"r\":25, \"x\":85, \"d\":96, \"E\":100}\n",
    "sort_dict(d, sortby = \"k\")"
   ]
  },
  {
   "cell_type": "code",
   "execution_count": 139,
   "metadata": {},
   "outputs": [
    {
     "data": {
      "text/plain": [
       "{'r': 25, 'a': 41, 'x': 85, 'd': 96, 'E': 100}"
      ]
     },
     "execution_count": 139,
     "metadata": {},
     "output_type": "execute_result"
    }
   ],
   "source": [
    "d = {\"a\":41, \"r\":25, \"x\":85, \"d\":96, \"E\":100}\n",
    "sort_dict(d, sortby = \"v\")"
   ]
  },
  {
   "cell_type": "code",
   "execution_count": 140,
   "metadata": {},
   "outputs": [
    {
     "data": {
      "text/plain": [
       "\"Enter 'k' to sort by key or 'v' to sort by value.\""
      ]
     },
     "execution_count": 140,
     "metadata": {},
     "output_type": "execute_result"
    }
   ],
   "source": [
    "d = {\"a\":41, \"r\":25, \"x\":85, \"d\":96, \"E\":100}\n",
    "sort_dict(d, sortby = \"x\")"
   ]
  },
  {
   "cell_type": "code",
   "execution_count": 138,
   "metadata": {},
   "outputs": [
    {
     "data": {
      "text/plain": [
       "[('E', 100), ('a', 41), ('d', 96), ('r', 25), ('x', 85)]"
      ]
     },
     "execution_count": 138,
     "metadata": {},
     "output_type": "execute_result"
    }
   ],
   "source": [
    "d = {\"a\":41, \"r\":25, \"x\":85, \"d\":96, \"E\":100}\n",
    "x = sorted(d.items())\n",
    "x"
   ]
  }
 ],
 "metadata": {
  "kernelspec": {
   "display_name": "Python 3",
   "language": "python",
   "name": "python3"
  },
  "language_info": {
   "codemirror_mode": {
    "name": "ipython",
    "version": 3
   },
   "file_extension": ".py",
   "mimetype": "text/x-python",
   "name": "python",
   "nbconvert_exporter": "python",
   "pygments_lexer": "ipython3",
   "version": "3.6.7"
  },
  "toc": {
   "base_numbering": 1,
   "nav_menu": {},
   "number_sections": true,
   "sideBar": true,
   "skip_h1_title": false,
   "title_cell": "Table of Contents",
   "title_sidebar": "Contents",
   "toc_cell": false,
   "toc_position": {},
   "toc_section_display": true,
   "toc_window_display": false
  }
 },
 "nbformat": 4,
 "nbformat_minor": 2
}
