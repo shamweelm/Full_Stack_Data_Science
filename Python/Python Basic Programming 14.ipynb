{
 "cells": [
  {
   "cell_type": "markdown",
   "metadata": {},
   "source": [
    "# Define a class with a generator which can iterate the numbers, which are divisible by 7, between a given range 0 and n."
   ]
  },
  {
   "cell_type": "code",
   "execution_count": 13,
   "metadata": {},
   "outputs": [],
   "source": [
    "class generator():\n",
    "    def __init__(self):\n",
    "        pass\n",
    "    def gen(self,m, n):\n",
    "        for i in range(m, n):\n",
    "            if i % 7 == 0:\n",
    "                yield(i)"
   ]
  },
  {
   "cell_type": "code",
   "execution_count": 14,
   "metadata": {},
   "outputs": [
    {
     "name": "stdout",
     "output_type": "stream",
     "text": [
      "14\n",
      "21\n",
      "28\n"
     ]
    }
   ],
   "source": [
    "for i in generator().gen(8, 29):\n",
    "    print(i)"
   ]
  },
  {
   "cell_type": "code",
   "execution_count": 16,
   "metadata": {},
   "outputs": [
    {
     "name": "stdout",
     "output_type": "stream",
     "text": [
      "0\n",
      "7\n",
      "14\n",
      "21\n"
     ]
    }
   ],
   "source": [
    "for i in generator().gen(0, 27):\n",
    "    print(i)"
   ]
  },
  {
   "cell_type": "markdown",
   "metadata": {},
   "source": [
    "# Write a program to compute the frequency of the words from the input. The output should output after sorting the key alphanumerically."
   ]
  },
  {
   "cell_type": "markdown",
   "metadata": {},
   "source": [
    "Suppose the following input is supplied to the program: <br>\n",
    "New to Python or choosing between Python 2 and Python 3? Read Python 2 or Python 3. <br>\n",
    "\n",
    "Then, the output should be: <br>\n",
    "2:2 <br>\n",
    "3.:1 <br>\n",
    "3?:1 <br>\n",
    "New:1 <br>\n",
    "Python:5 <br>\n",
    "Read:1 <br>\n",
    "and:1 <br>\n",
    "between:1 <br>\n",
    "choosing:1 <br>\n",
    "or:2 <br>\n",
    "to:1"
   ]
  },
  {
   "cell_type": "code",
   "execution_count": 70,
   "metadata": {},
   "outputs": [],
   "source": [
    "def words_freq(string):\n",
    "    words = string.split()\n",
    "    wd = sorted(words)\n",
    "    s = sorted(set(wd))\n",
    "    freq = dict.fromkeys(s, 0)\n",
    "    for w in words:\n",
    "        freq[w] += 1\n",
    "    return freq"
   ]
  },
  {
   "cell_type": "code",
   "execution_count": 71,
   "metadata": {},
   "outputs": [
    {
     "data": {
      "text/plain": [
       "{'2': 2,\n",
       " '3.': 1,\n",
       " '3?': 1,\n",
       " 'New': 1,\n",
       " 'Python': 5,\n",
       " 'Read': 1,\n",
       " 'and': 1,\n",
       " 'between': 1,\n",
       " 'choosing': 1,\n",
       " 'or': 2,\n",
       " 'to': 1}"
      ]
     },
     "execution_count": 71,
     "metadata": {},
     "output_type": "execute_result"
    }
   ],
   "source": [
    "words_freq(\"New to Python or choosing between Python 2 and Python 3? Read Python 2 or Python 3.\")"
   ]
  },
  {
   "cell_type": "markdown",
   "metadata": {},
   "source": [
    "# Define a class Person and its two child classes: Male and Female. All classes have a method &quot;getGender&quot; which can print &quot;Male&quot; for Male class and &quot;Female&quot; for Female class."
   ]
  },
  {
   "cell_type": "code",
   "execution_count": 74,
   "metadata": {},
   "outputs": [],
   "source": [
    "class Person():\n",
    "    def getGender(self):\n",
    "        return \"Not available\"\n",
    "\n",
    "class Male(Person):\n",
    "    def getGender(self):\n",
    "        return \"Male\"\n",
    "\n",
    "class Female(Person):\n",
    "    def getGender(self):\n",
    "        return \"Female\""
   ]
  },
  {
   "cell_type": "code",
   "execution_count": 77,
   "metadata": {},
   "outputs": [
    {
     "data": {
      "text/plain": [
       "'Male'"
      ]
     },
     "execution_count": 77,
     "metadata": {},
     "output_type": "execute_result"
    }
   ],
   "source": [
    "male = Male()\n",
    "male.getGender()"
   ]
  },
  {
   "cell_type": "code",
   "execution_count": 78,
   "metadata": {},
   "outputs": [
    {
     "data": {
      "text/plain": [
       "'Female'"
      ]
     },
     "execution_count": 78,
     "metadata": {},
     "output_type": "execute_result"
    }
   ],
   "source": [
    "female = Female()\n",
    "female.getGender()"
   ]
  },
  {
   "cell_type": "markdown",
   "metadata": {},
   "source": [
    "# Please write a program to generate all sentences where subject is in [&quot;I&quot;, &quot;You&quot;] and verb is in [&quot;Play&quot;, &quot;Love&quot;] and the object is in [&quot;Hockey&quot;,&quot;Football&quot;]."
   ]
  },
  {
   "cell_type": "code",
   "execution_count": 84,
   "metadata": {},
   "outputs": [],
   "source": [
    "def sentence_gen(sub, verb, obj):\n",
    "    for s in sub:\n",
    "        for v in verb:\n",
    "            for o in obj:\n",
    "                print(s +\" \"+ v+\" \"+ o)"
   ]
  },
  {
   "cell_type": "code",
   "execution_count": 85,
   "metadata": {},
   "outputs": [
    {
     "name": "stdout",
     "output_type": "stream",
     "text": [
      "I Play Hockey\n",
      "I Play Football\n",
      "I Love Hockey\n",
      "I Love Football\n",
      "You Play Hockey\n",
      "You Play Football\n",
      "You Love Hockey\n",
      "You Love Football\n"
     ]
    }
   ],
   "source": [
    "sub = [\"I\", \"You\"]\n",
    "verb = [\"Play\", \"Love\"]\n",
    "obj = [\"Hockey\", \"Football\"]\n",
    "sentence_gen(sub, verb, obj)"
   ]
  },
  {
   "cell_type": "markdown",
   "metadata": {},
   "source": [
    "# Please write a program to compress and decompress the string &quot;hello world!hello world!hello world!hello world!&quot;."
   ]
  },
  {
   "cell_type": "code",
   "execution_count": 96,
   "metadata": {},
   "outputs": [],
   "source": [
    "import zlib"
   ]
  },
  {
   "cell_type": "code",
   "execution_count": 99,
   "metadata": {},
   "outputs": [],
   "source": [
    "def comp_decomp(string):\n",
    "    string_bytes = string.encode()\n",
    "    comp = zlib.compress(string_bytes)\n",
    "    print(\"Compressed: \", comp)\n",
    "    decomp = zlib.decompress(comp)\n",
    "    print(\"Decompressed: \", decomp)"
   ]
  },
  {
   "cell_type": "code",
   "execution_count": 100,
   "metadata": {},
   "outputs": [
    {
     "name": "stdout",
     "output_type": "stream",
     "text": [
      "Compressed:  b'x\\x9c\\xcbH\\xcd\\xc9\\xc9W(\\xcf/\\xcaIQ\\xcc \\x82\\r\\x00\\xbd[\\x11\\xf5'\n",
      "Decompressed:  b'hello world!hello world!hello world!hello world!'\n"
     ]
    }
   ],
   "source": [
    "string = \"hello world!hello world!hello world!hello world!\"\n",
    "comp_decomp(string)"
   ]
  },
  {
   "cell_type": "markdown",
   "metadata": {},
   "source": [
    "# Please write a binary search function which searches an item in a sorted list. The function should return the index of element to be searched in the list."
   ]
  },
  {
   "cell_type": "code",
   "execution_count": 114,
   "metadata": {},
   "outputs": [],
   "source": [
    "def binary_search(l, n):\n",
    "    sorted(l)\n",
    "    low = 0\n",
    "    high = len(l)-1\n",
    "    mid = 0\n",
    "    \n",
    "    while low <= high:\n",
    "        mid = (low + high) // 2\n",
    "        if l[mid] < n :\n",
    "            low = mid + 1\n",
    "        elif l[mid] > n:\n",
    "            high = mid - 1\n",
    "        else :\n",
    "            return mid\n",
    "    return -1"
   ]
  },
  {
   "cell_type": "code",
   "execution_count": 115,
   "metadata": {},
   "outputs": [
    {
     "data": {
      "text/plain": [
       "-1"
      ]
     },
     "execution_count": 115,
     "metadata": {},
     "output_type": "execute_result"
    }
   ],
   "source": [
    "l = [1,2,5,6,18,23,30,40,48,56,67,82]\n",
    "num = 4\n",
    "binary_search(l, num)"
   ]
  },
  {
   "cell_type": "code",
   "execution_count": 116,
   "metadata": {},
   "outputs": [
    {
     "data": {
      "text/plain": [
       "4"
      ]
     },
     "execution_count": 116,
     "metadata": {},
     "output_type": "execute_result"
    }
   ],
   "source": [
    "l = [2,4,9,11,12,23,35,48,76,84,91,96]\n",
    "num = 12\n",
    "binary_search(l, num)"
   ]
  },
  {
   "cell_type": "code",
   "execution_count": null,
   "metadata": {},
   "outputs": [],
   "source": []
  }
 ],
 "metadata": {
  "kernelspec": {
   "display_name": "Python 3",
   "language": "python",
   "name": "python3"
  },
  "language_info": {
   "codemirror_mode": {
    "name": "ipython",
    "version": 3
   },
   "file_extension": ".py",
   "mimetype": "text/x-python",
   "name": "python",
   "nbconvert_exporter": "python",
   "pygments_lexer": "ipython3",
   "version": "3.6.7"
  },
  "toc": {
   "base_numbering": 1,
   "nav_menu": {},
   "number_sections": true,
   "sideBar": true,
   "skip_h1_title": false,
   "title_cell": "Table of Contents",
   "title_sidebar": "Contents",
   "toc_cell": false,
   "toc_position": {},
   "toc_section_display": true,
   "toc_window_display": false
  }
 },
 "nbformat": 4,
 "nbformat_minor": 2
}
