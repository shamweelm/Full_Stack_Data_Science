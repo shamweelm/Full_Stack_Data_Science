{
 "cells": [
  {
   "cell_type": "markdown",
   "metadata": {},
   "source": [
    "# Write a program that calculates and prints the value according to the given formula: "
   ]
  },
  {
   "cell_type": "markdown",
   "metadata": {},
   "source": [
    "Q = Square root of [(2 * C * D)/H] <br>\n",
    "\n",
    "Following are the fixed values of C and H: <br>\n",
    "C is 50. H is 30. <br>\n",
    "D is the variable whose values should be input to your program in a comma-separated sequence. <br>\n",
    "\n",
    "Example : <br>\n",
    "Let us assume the following comma separated input sequence is given to the program: <br>\n",
    "100,150,180 <br>\n",
    "The output of the program should be: <br>\n",
    "18,22,24"
   ]
  },
  {
   "cell_type": "code",
   "execution_count": 82,
   "metadata": {},
   "outputs": [],
   "source": [
    "import math\n",
    "import numpy as np\n",
    "import re"
   ]
  },
  {
   "cell_type": "code",
   "execution_count": 83,
   "metadata": {},
   "outputs": [],
   "source": [
    "def q_value(*d):\n",
    "    c = 50\n",
    "    h = 30\n",
    "    ans = []\n",
    "    dlength = len(d)\n",
    "    l = 0\n",
    "    for val in d:\n",
    "        q = int(math.sqrt(2*c*val/h)) #(2*50*100/30)\n",
    "        l = l + 1\n",
    "        if l < dlength :\n",
    "            print(q, end=\", \")\n",
    "        else :\n",
    "            print(q)"
   ]
  },
  {
   "cell_type": "code",
   "execution_count": 84,
   "metadata": {},
   "outputs": [
    {
     "name": "stdout",
     "output_type": "stream",
     "text": [
      "18, 22, 24, 22, 9\n"
     ]
    }
   ],
   "source": [
    "q_value(100,150,180,154,25)"
   ]
  },
  {
   "cell_type": "markdown",
   "metadata": {},
   "source": [
    "# Write a program which takes 2 digits, X,Y as input and generates a 2-dimensional array. The element value in the i-th row and j-th column of the array should be i*j."
   ]
  },
  {
   "cell_type": "markdown",
   "metadata": {},
   "source": [
    "Note: i=0,1.., X-1; j=0,1,¡Y-1. <br>\n",
    "\n",
    "Example : <br>\n",
    "Suppose the following inputs are given to the program: <br>\n",
    "3,5 <br>\n",
    "\n",
    "Then, the output of the program should be: <br>\n",
    "[[0, 0, 0, 0, 0], [0, 1, 2, 3, 4], [0, 2, 4, 6, 8]] "
   ]
  },
  {
   "cell_type": "code",
   "execution_count": 85,
   "metadata": {},
   "outputs": [],
   "source": [
    "def array_2d(x,y):\n",
    "    arr = np.ones((x,y))\n",
    "    for i in range(x):\n",
    "        for j in range(y):\n",
    "            arr[i][j] = i*j\n",
    "    return arr"
   ]
  },
  {
   "cell_type": "code",
   "execution_count": 86,
   "metadata": {},
   "outputs": [
    {
     "data": {
      "text/plain": [
       "array([[0., 0., 0., 0., 0.],\n",
       "       [0., 1., 2., 3., 4.],\n",
       "       [0., 2., 4., 6., 8.]])"
      ]
     },
     "execution_count": 86,
     "metadata": {},
     "output_type": "execute_result"
    }
   ],
   "source": [
    "array_2d(3,5)"
   ]
  },
  {
   "cell_type": "code",
   "execution_count": 87,
   "metadata": {},
   "outputs": [
    {
     "data": {
      "text/plain": [
       "array([[0., 0., 0., 0.],\n",
       "       [0., 1., 2., 3.]])"
      ]
     },
     "execution_count": 87,
     "metadata": {},
     "output_type": "execute_result"
    }
   ],
   "source": [
    "array_2d(2,4)"
   ]
  },
  {
   "cell_type": "markdown",
   "metadata": {},
   "source": [
    "# Write a program that accepts a comma separated sequence of words as input and prints the words in a comma-separated sequence after sorting them alphabetically."
   ]
  },
  {
   "cell_type": "markdown",
   "metadata": {},
   "source": [
    "Suppose the following input is supplied to the program: <br>\n",
    "without,hello,bag,world <br>\n",
    "\n",
    "Then, the output should be: <br>\n",
    "bag,hello,without,world"
   ]
  },
  {
   "cell_type": "code",
   "execution_count": 88,
   "metadata": {},
   "outputs": [],
   "source": [
    "def cs_sequence(*strings):\n",
    "    x = sorted(strings)\n",
    "    xlength = len(x)\n",
    "    l = 0    \n",
    "    for seq in x:\n",
    "        l = l + 1\n",
    "        if l < xlength :\n",
    "            print(seq, end=\", \")\n",
    "        else :\n",
    "            print(seq)"
   ]
  },
  {
   "cell_type": "code",
   "execution_count": 89,
   "metadata": {},
   "outputs": [
    {
     "name": "stdout",
     "output_type": "stream",
     "text": [
      "bag, hello, without, world\n"
     ]
    }
   ],
   "source": [
    "cs_sequence(\"without\",\"hello\",\"bag\",\"world\")"
   ]
  },
  {
   "cell_type": "code",
   "execution_count": 90,
   "metadata": {},
   "outputs": [
    {
     "name": "stdout",
     "output_type": "stream",
     "text": [
      "bag, computer, laptop, mobile\n"
     ]
    }
   ],
   "source": [
    "cs_sequence(\"laptop\",\"computer\",\"bag\",\"mobile\")"
   ]
  },
  {
   "cell_type": "markdown",
   "metadata": {},
   "source": [
    "# Write a program that accepts a sequence of whitespace separated words as input and prints the words after removing all duplicate words and sorting them alphanumerically."
   ]
  },
  {
   "cell_type": "markdown",
   "metadata": {},
   "source": [
    "Suppose the following input is supplied to the program: <br>\n",
    "hello world and practice makes perfect and hello world again <br>\n",
    "\n",
    "Then, the output should be:<br>\n",
    "again and hello makes perfect practice world"
   ]
  },
  {
   "cell_type": "code",
   "execution_count": 91,
   "metadata": {},
   "outputs": [],
   "source": [
    "def whitespace_dup(*strings):\n",
    "    words_set = set()\n",
    "    for string in strings:\n",
    "        words = string.split()\n",
    "        for word in words:\n",
    "            words_set.add(word)\n",
    "    for x in words_set:\n",
    "        print(x, end=\" \")"
   ]
  },
  {
   "cell_type": "code",
   "execution_count": 92,
   "metadata": {},
   "outputs": [
    {
     "name": "stdout",
     "output_type": "stream",
     "text": [
      "and this bag will without accepted be hello nothing world "
     ]
    }
   ],
   "source": [
    "whitespace_dup(\"nothing without this will be accepted\",\"without hello without world bag bag and\")"
   ]
  },
  {
   "cell_type": "markdown",
   "metadata": {},
   "source": [
    "# Write a program that accepts a sentence and calculate the number of letters and digits."
   ]
  },
  {
   "cell_type": "markdown",
   "metadata": {},
   "source": [
    "Suppose the following input is supplied to the program: <br>\n",
    "hello world! 123 <br>\n",
    "\n",
    "Then, the output should be: <br>\n",
    "LETTERS 10 <br>\n",
    "DIGITS 3"
   ]
  },
  {
   "cell_type": "code",
   "execution_count": 93,
   "metadata": {},
   "outputs": [],
   "source": [
    "def calc_letter_digits(string):\n",
    "    letters = 0\n",
    "    numbers = 0\n",
    "    for char in string:\n",
    "        if char.isalpha():\n",
    "            letters += 1\n",
    "        if char.isdigit():\n",
    "            numbers += 1\n",
    "    print(\"LETTERS : \", letters)\n",
    "    print(\"NUMBERS : \", numbers)"
   ]
  },
  {
   "cell_type": "code",
   "execution_count": 94,
   "metadata": {},
   "outputs": [
    {
     "name": "stdout",
     "output_type": "stream",
     "text": [
      "LETTERS :  10\n",
      "NUMBERS :  3\n"
     ]
    }
   ],
   "source": [
    "calc_letter_digits(\"hello world! 123\")"
   ]
  },
  {
   "cell_type": "code",
   "execution_count": 95,
   "metadata": {},
   "outputs": [
    {
     "name": "stdout",
     "output_type": "stream",
     "text": [
      "LETTERS :  23\n",
      "NUMBERS :  3\n"
     ]
    }
   ],
   "source": [
    "calc_letter_digits(\"laptop*] computer 123bag mobile\")"
   ]
  },
  {
   "cell_type": "markdown",
   "metadata": {},
   "source": [
    "# A website requires the users to input username and password to register. Write a program to check the validity of password input by users."
   ]
  },
  {
   "cell_type": "markdown",
   "metadata": {},
   "source": [
    "Following are the criteria for checking the password: <br>\n",
    "1. At least 1 letter between [a-z] <br>\n",
    "2. At least 1 number between [0-9] <br>\n",
    "1. At least 1 letter between [A-Z] <br>\n",
    "3. At least 1 character from [$#@] <br>\n",
    "4. Minimum length of transaction password: 6 <br>\n",
    "5. Maximum length of transaction password: 12 <br>\n",
    "\n",
    "Your program should accept a sequence of comma separated passwords and will check them according to the above criteria. Passwords that match the criteria are to be printed, each separated by a comma. <br>\n",
    "\n",
    "Example : <br>\n",
    "If the following passwords are given as input to the program: <br>\n",
    "ABd1234@1,a F1#,2w3E*,2We3345 <br>\n",
    "\n",
    "Then, the output of the program should be: <br>\n",
    "ABd1234@1\n"
   ]
  },
  {
   "cell_type": "code",
   "execution_count": 118,
   "metadata": {},
   "outputs": [],
   "source": [
    "def password_checker(*passwords):\n",
    "    valid_passwords = []\n",
    "    for password in passwords:\n",
    "        if (len(password) < 6 or len(password) > 12):\n",
    "            break\n",
    "        elif not re.search(\"[a-z]\", password):\n",
    "            break\n",
    "        elif not re.search(\"[A-Z]\", password):\n",
    "            break\n",
    "        elif not re.search(\"[0-9]\", password):\n",
    "            break\n",
    "        elif not re.search(\"[$@#]\", password):\n",
    "            break\n",
    "        elif re.search(\"\\s\", password):\n",
    "            break\n",
    "        else :\n",
    "            valid_passwords.append(password)\n",
    "    return valid_passwords"
   ]
  },
  {
   "cell_type": "code",
   "execution_count": 119,
   "metadata": {},
   "outputs": [
    {
     "data": {
      "text/plain": [
       "['ABd1234@1']"
      ]
     },
     "execution_count": 119,
     "metadata": {},
     "output_type": "execute_result"
    }
   ],
   "source": [
    "password_checker(\"ABd1234@1\",\"a F1#\",\"2w3E*\",\"2We3345\")"
   ]
  },
  {
   "cell_type": "code",
   "execution_count": 120,
   "metadata": {},
   "outputs": [
    {
     "data": {
      "text/plain": [
       "['Xas23@1', 'than2F1#']"
      ]
     },
     "execution_count": 120,
     "metadata": {},
     "output_type": "execute_result"
    }
   ],
   "source": [
    "password_checker(\"Xas23@1\",\"than2F1#\",\"2@ w3E*\",\"4Ze3e58\")"
   ]
  },
  {
   "cell_type": "code",
   "execution_count": null,
   "metadata": {},
   "outputs": [],
   "source": []
  }
 ],
 "metadata": {
  "kernelspec": {
   "display_name": "Python 3",
   "language": "python",
   "name": "python3"
  },
  "language_info": {
   "codemirror_mode": {
    "name": "ipython",
    "version": 3
   },
   "file_extension": ".py",
   "mimetype": "text/x-python",
   "name": "python",
   "nbconvert_exporter": "python",
   "pygments_lexer": "ipython3",
   "version": "3.6.7"
  },
  "toc": {
   "base_numbering": 1,
   "nav_menu": {},
   "number_sections": true,
   "sideBar": true,
   "skip_h1_title": false,
   "title_cell": "Table of Contents",
   "title_sidebar": "Contents",
   "toc_cell": false,
   "toc_position": {},
   "toc_section_display": true,
   "toc_window_display": false
  }
 },
 "nbformat": 4,
 "nbformat_minor": 2
}
